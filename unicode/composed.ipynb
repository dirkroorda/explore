{
 "cells": [
  {
   "cell_type": "code",
   "execution_count": 1,
   "metadata": {},
   "outputs": [],
   "source": [
    "import re\n",
    "from unicodedata import normalize, name, combining, decomposition\n",
    "\n",
    "from tf.core.helpers import rangesFromList"
   ]
  },
  {
   "cell_type": "markdown",
   "metadata": {},
   "source": [
    "# Inspection\n",
    "\n",
    "Meet the unicode characters:\n",
    "\n",
    "* cLike: a c with caron and dot below, maximally composed, still two characters\n",
    "* hLike: an L with macron and dot below, maximally composed, one character\n",
    "\n",
    "We'll decompose them, recompose them in two ways, and inspect the result."
   ]
  },
  {
   "cell_type": "code",
   "execution_count": 2,
   "metadata": {},
   "outputs": [],
   "source": [
    "cLike = \"č̣\"\n",
    "lLike = \"\\u1E38\"\n",
    "caron = \"\\u030c\"\n",
    "macron = \"\\u0304\"\n",
    "dot = \"\\u0323\""
   ]
  },
  {
   "cell_type": "markdown",
   "metadata": {},
   "source": [
    "Functions to inspect a unicode string."
   ]
  },
  {
   "cell_type": "code",
   "execution_count": 3,
   "metadata": {},
   "outputs": [],
   "source": [
    "def show(u):\n",
    "    for c in u:\n",
    "        cName = name(c)\n",
    "        cPadding = ' ' if cName.startswith('COMBINING') else ''\n",
    "        print(f\"\\t{cPadding}{c} {ord(c):>04x} {name(c)}\")"
   ]
  },
  {
   "cell_type": "code",
   "execution_count": 4,
   "metadata": {},
   "outputs": [],
   "source": [
    "def showdc(u):\n",
    "    ud = normalize(\"NFD\", u)\n",
    "    ud1 = ud[0] + ud[2] + ud[1]\n",
    "    uc = normalize(\"NFC\", ud)\n",
    "    uc1 = normalize(\"NFC\", ud1)\n",
    "    print(\"Original\")\n",
    "    show(u)\n",
    "    print(\"Decomposed\")\n",
    "    show(ud)\n",
    "    print(\"Composed\")\n",
    "    show(uc)\n",
    "    print(\"Composed in alternative order\")\n",
    "    show(uc1)"
   ]
  },
  {
   "cell_type": "markdown",
   "metadata": {},
   "source": [
    "Let's inspect our two candidates."
   ]
  },
  {
   "cell_type": "code",
   "execution_count": 5,
   "metadata": {},
   "outputs": [
    {
     "name": "stdout",
     "output_type": "stream",
     "text": [
      "Original\n",
      "\tč 010d LATIN SMALL LETTER C WITH CARON\n",
      "\t ̣ 0323 COMBINING DOT BELOW\n",
      "Decomposed\n",
      "\tc 0063 LATIN SMALL LETTER C\n",
      "\t ̣ 0323 COMBINING DOT BELOW\n",
      "\t ̌ 030c COMBINING CARON\n",
      "Composed\n",
      "\tč 010d LATIN SMALL LETTER C WITH CARON\n",
      "\t ̣ 0323 COMBINING DOT BELOW\n",
      "Composed in alternative order\n",
      "\tč 010d LATIN SMALL LETTER C WITH CARON\n",
      "\t ̣ 0323 COMBINING DOT BELOW\n"
     ]
    }
   ],
   "source": [
    "showdc(cLike)"
   ]
  },
  {
   "cell_type": "markdown",
   "metadata": {},
   "source": [
    "This letter can be composed to a single unicode character"
   ]
  },
  {
   "cell_type": "code",
   "execution_count": 6,
   "metadata": {},
   "outputs": [
    {
     "name": "stdout",
     "output_type": "stream",
     "text": [
      "Original\n",
      "\tḸ 1e38 LATIN CAPITAL LETTER L WITH DOT BELOW AND MACRON\n",
      "Decomposed\n",
      "\tL 004c LATIN CAPITAL LETTER L\n",
      "\t ̣ 0323 COMBINING DOT BELOW\n",
      "\t ̄ 0304 COMBINING MACRON\n",
      "Composed\n",
      "\tḸ 1e38 LATIN CAPITAL LETTER L WITH DOT BELOW AND MACRON\n",
      "Composed in alternative order\n",
      "\tḸ 1e38 LATIN CAPITAL LETTER L WITH DOT BELOW AND MACRON\n"
     ]
    }
   ],
   "source": [
    "showdc(lLike)"
   ]
  },
  {
   "cell_type": "markdown",
   "metadata": {},
   "source": [
    "# Matching\n",
    "\n",
    "Let's see how we can match.\n",
    "It is not completely trivial, because we might need to know the order of combining characters into which characters decompose.\n",
    "\n",
    "We create patterns for testing out various tasks and we will see which forms of the unicode string yield what results.\n",
    "\n",
    "* the base letter\n",
    "* the dot below\n",
    "* the caron or macron\n",
    "* the base letter plus a caron/macron (first in a naive way, and then in a good way)\n",
    "* the base letter plus a dot\n",
    "* the base letter plus a caron/macron and a dot (in that order)\n",
    "* the base letter plus a dot and a caron/macron (in that order)\n",
    "* the base letter plus a dot and a caron/macron (in any order)"
   ]
  },
  {
   "cell_type": "markdown",
   "metadata": {},
   "source": [
    "## Collecting all combining characters\n",
    "\n",
    "As a preparation we synthesize a regex that matches all combining characters in the unicode table as far as they are not letters\n",
    "(some combining characters are also letters).\n",
    "\n",
    "We do this by inspecting the names of all unicode characters, looking for the words `COMBINING` and `LETTER` in their names,\n",
    "collecting the code points on the non-letter combiners, distilling a set of ranges out of that and writing it into a regex pattern."
   ]
  },
  {
   "cell_type": "code",
   "execution_count": 7,
   "metadata": {},
   "outputs": [
    {
     "name": "stdout",
     "output_type": "stream",
     "text": [
      "Combiners :   247\n"
     ]
    },
    {
     "data": {
      "text/plain": [
       "'[̀-ͣ҃-Ҋ߫-ߴఀఄഀ፝-፠᩿᪰-\\u1abf᭫-᭴᷀-᷊᷋-ᷓ᷵-\\u1dfa᷻-Ḁ⃐-\\u20f1⳯-Ⳳ゙-゛꙯-꙳꙼-꙾꛰-꛲꣠-꣪꣱︠-︰]*'"
      ]
     },
     "execution_count": 7,
     "metadata": {},
     "output_type": "execute_result"
    }
   ],
   "source": [
    "CMB = 'COMBINING'\n",
    "LTR = 'LETTER'\n",
    "\n",
    "combiners = []\n",
    "\n",
    "for x in range(1, 0xFFFF + 1):\n",
    "    try:\n",
    "        u = chr(x)\n",
    "        n = name(u)\n",
    "    except ValueError:\n",
    "        continue\n",
    "    if CMB in n and LTR not in n:\n",
    "            combiners.append(x)\n",
    " \n",
    "print(f\"Combiners : {len(combiners):>5}\")\n",
    "\n",
    "charRanges = (\n",
    "    chr(b) if b == e else f\"{chr(b)}-{chr(e + 1)}\"\n",
    "    for (b, e) in rangesFromList(combiners)\n",
    ")\n",
    "\n",
    "combinerPat = f\"[{''.join(charRanges)}]*\"\n",
    "combinerPat"
   ]
  },
  {
   "cell_type": "markdown",
   "metadata": {},
   "source": [
    "## Non-naive searching for combinations\n",
    "\n",
    "If we want to search for say an L with a macron, we also want to find cases of an L with a macron in the presence of other\n",
    "combining characters. \n",
    "In order to do so, we need the pattern that matches combiners."
   ]
  },
  {
   "cell_type": "code",
   "execution_count": 8,
   "metadata": {},
   "outputs": [],
   "source": [
    "aon = \"[\\u030c\\u0304]\"\n",
    "\n",
    "regs = (\n",
    "    (\"letter\", re.compile(\"[A-Za-z]\")),\n",
    "    (\"dot\", re.compile(dot)),\n",
    "    (\"aon\", re.compile(aon)),\n",
    "    (\"letterAonNaive\", re.compile(f\"[A-Za-z]{aon}\")),\n",
    "    (\"letterAon\", re.compile(f\"[A-Za-z]{combinerPat}{aon}\")),\n",
    "    (\"letterDot\", re.compile(f\"[A-Za-z]{combinerPat}{dot}\")),\n",
    "    (\"letterAonDot\", re.compile(f\"[A-Za-z]{combinerPat}{dot}{combinerPat}{aon}\")),\n",
    "    (\"letterDotAon\", re.compile(f\"[A-Za-z]{combinerPat}{aon}{combinerPat}{dot}\")),\n",
    "    (\"letterDotAonX\", re.compile(f\"[A-Za-z]{combinerPat}(?:(?:{aon}{combinerPat}{dot})|(?:{dot}{combinerPat}{aon}))\")),\n",
    ")\n",
    "\n",
    "def matchit(u):\n",
    "    show(u)\n",
    "    for (label, reg) in regs:\n",
    "        match = reg.search(u)\n",
    "        answer = \"yes\" if match else \"no\"\n",
    "        print(f\"\\t{label:<20} match: {answer}\")"
   ]
  },
  {
   "cell_type": "code",
   "execution_count": 9,
   "metadata": {},
   "outputs": [],
   "source": [
    "def showmatch(u):\n",
    "    ud = normalize(\"NFD\", u)\n",
    "    ud1 = ud[0] + ud[2] + ud[1]\n",
    "    uc = normalize(\"NFC\", ud)\n",
    "    uc1 = normalize(\"NFC\", ud1)\n",
    "    print(\"Original\")\n",
    "    matchit(u)\n",
    "    print(\"Decomposed\")\n",
    "    matchit(ud)\n",
    "    print(\"Composed\")\n",
    "    matchit(uc)\n",
    "    print(\"Composed in alternative order\")\n",
    "    matchit(uc1)"
   ]
  },
  {
   "cell_type": "code",
   "execution_count": 10,
   "metadata": {},
   "outputs": [
    {
     "name": "stdout",
     "output_type": "stream",
     "text": [
      "Original\n",
      "\tč 010d LATIN SMALL LETTER C WITH CARON\n",
      "\t ̣ 0323 COMBINING DOT BELOW\n",
      "\tletter               match: no\n",
      "\tdot                  match: yes\n",
      "\taon                  match: no\n",
      "\tletterAonNaive       match: no\n",
      "\tletterAon            match: no\n",
      "\tletterDot            match: no\n",
      "\tletterAonDot         match: no\n",
      "\tletterDotAon         match: no\n",
      "\tletterDotAonX        match: no\n",
      "Decomposed\n",
      "\tc 0063 LATIN SMALL LETTER C\n",
      "\t ̣ 0323 COMBINING DOT BELOW\n",
      "\t ̌ 030c COMBINING CARON\n",
      "\tletter               match: yes\n",
      "\tdot                  match: yes\n",
      "\taon                  match: yes\n",
      "\tletterAonNaive       match: no\n",
      "\tletterAon            match: yes\n",
      "\tletterDot            match: yes\n",
      "\tletterAonDot         match: yes\n",
      "\tletterDotAon         match: no\n",
      "\tletterDotAonX        match: yes\n",
      "Composed\n",
      "\tč 010d LATIN SMALL LETTER C WITH CARON\n",
      "\t ̣ 0323 COMBINING DOT BELOW\n",
      "\tletter               match: no\n",
      "\tdot                  match: yes\n",
      "\taon                  match: no\n",
      "\tletterAonNaive       match: no\n",
      "\tletterAon            match: no\n",
      "\tletterDot            match: no\n",
      "\tletterAonDot         match: no\n",
      "\tletterDotAon         match: no\n",
      "\tletterDotAonX        match: no\n",
      "Composed in alternative order\n",
      "\tč 010d LATIN SMALL LETTER C WITH CARON\n",
      "\t ̣ 0323 COMBINING DOT BELOW\n",
      "\tletter               match: no\n",
      "\tdot                  match: yes\n",
      "\taon                  match: no\n",
      "\tletterAonNaive       match: no\n",
      "\tletterAon            match: no\n",
      "\tletterDot            match: no\n",
      "\tletterAonDot         match: no\n",
      "\tletterDotAon         match: no\n",
      "\tletterDotAonX        match: no\n"
     ]
    }
   ],
   "source": [
    "showmatch(cLike)"
   ]
  },
  {
   "cell_type": "code",
   "execution_count": 11,
   "metadata": {},
   "outputs": [
    {
     "name": "stdout",
     "output_type": "stream",
     "text": [
      "Original\n",
      "\tḸ 1e38 LATIN CAPITAL LETTER L WITH DOT BELOW AND MACRON\n",
      "\tletter               match: no\n",
      "\tdot                  match: no\n",
      "\taon                  match: no\n",
      "\tletterAonNaive       match: no\n",
      "\tletterAon            match: no\n",
      "\tletterDot            match: no\n",
      "\tletterAonDot         match: no\n",
      "\tletterDotAon         match: no\n",
      "\tletterDotAonX        match: no\n",
      "Decomposed\n",
      "\tL 004c LATIN CAPITAL LETTER L\n",
      "\t ̣ 0323 COMBINING DOT BELOW\n",
      "\t ̄ 0304 COMBINING MACRON\n",
      "\tletter               match: yes\n",
      "\tdot                  match: yes\n",
      "\taon                  match: yes\n",
      "\tletterAonNaive       match: no\n",
      "\tletterAon            match: yes\n",
      "\tletterDot            match: yes\n",
      "\tletterAonDot         match: yes\n",
      "\tletterDotAon         match: no\n",
      "\tletterDotAonX        match: yes\n",
      "Composed\n",
      "\tḸ 1e38 LATIN CAPITAL LETTER L WITH DOT BELOW AND MACRON\n",
      "\tletter               match: no\n",
      "\tdot                  match: no\n",
      "\taon                  match: no\n",
      "\tletterAonNaive       match: no\n",
      "\tletterAon            match: no\n",
      "\tletterDot            match: no\n",
      "\tletterAonDot         match: no\n",
      "\tletterDotAon         match: no\n",
      "\tletterDotAonX        match: no\n",
      "Composed in alternative order\n",
      "\tḸ 1e38 LATIN CAPITAL LETTER L WITH DOT BELOW AND MACRON\n",
      "\tletter               match: no\n",
      "\tdot                  match: no\n",
      "\taon                  match: no\n",
      "\tletterAonNaive       match: no\n",
      "\tletterAon            match: no\n",
      "\tletterDot            match: no\n",
      "\tletterAonDot         match: no\n",
      "\tletterDotAon         match: no\n",
      "\tletterDotAonX        match: no\n"
     ]
    }
   ],
   "source": [
    "showmatch(lLike)"
   ]
  },
  {
   "cell_type": "markdown",
   "metadata": {},
   "source": [
    "# Conclusion\n",
    "\n",
    "In order to work systematically with composed characters, it is best to always decompose them first.\n",
    "After that, it is best to assume no order of the combining characters in the decomposition.\n",
    "That means that some regexes will become a bit more complicated."
   ]
  },
  {
   "cell_type": "markdown",
   "metadata": {},
   "source": [
    "# Left overs"
   ]
  },
  {
   "cell_type": "markdown",
   "metadata": {},
   "source": [
    "Let's try to decompose `cLike` and `lLike` step by step (not the handiest method):"
   ]
  },
  {
   "cell_type": "code",
   "execution_count": 14,
   "metadata": {},
   "outputs": [
    {
     "data": {
      "text/plain": [
       "'0063 030C'"
      ]
     },
     "execution_count": 14,
     "metadata": {},
     "output_type": "execute_result"
    }
   ],
   "source": [
    "decomposition(cLike[0])"
   ]
  },
  {
   "cell_type": "code",
   "execution_count": 15,
   "metadata": {},
   "outputs": [
    {
     "data": {
      "text/plain": [
       "'1E36 0304'"
      ]
     },
     "execution_count": 15,
     "metadata": {},
     "output_type": "execute_result"
    }
   ],
   "source": [
    "decomposition(lLike)"
   ]
  },
  {
   "cell_type": "code",
   "execution_count": 16,
   "metadata": {},
   "outputs": [
    {
     "data": {
      "text/plain": [
       "'004C 0323'"
      ]
     },
     "execution_count": 16,
     "metadata": {},
     "output_type": "execute_result"
    }
   ],
   "source": [
    "decomposition(\"\\u1E36\")"
   ]
  },
  {
   "cell_type": "markdown",
   "metadata": {},
   "source": [
    "Let's inspect the `combining` information for unicode characters."
   ]
  },
  {
   "cell_type": "code",
   "execution_count": 19,
   "metadata": {},
   "outputs": [
    {
     "data": {
      "text/plain": [
       "0"
      ]
     },
     "execution_count": 19,
     "metadata": {},
     "output_type": "execute_result"
    }
   ],
   "source": [
    "combining(cLike[0])"
   ]
  },
  {
   "cell_type": "code",
   "execution_count": 20,
   "metadata": {},
   "outputs": [
    {
     "data": {
      "text/plain": [
       "0"
      ]
     },
     "execution_count": 20,
     "metadata": {},
     "output_type": "execute_result"
    }
   ],
   "source": [
    "combining(lLike)"
   ]
  },
  {
   "cell_type": "code",
   "execution_count": 17,
   "metadata": {},
   "outputs": [
    {
     "data": {
      "text/plain": [
       "230"
      ]
     },
     "execution_count": 17,
     "metadata": {},
     "output_type": "execute_result"
    }
   ],
   "source": [
    "combining(caron)"
   ]
  },
  {
   "cell_type": "code",
   "execution_count": 18,
   "metadata": {},
   "outputs": [
    {
     "data": {
      "text/plain": [
       "230"
      ]
     },
     "execution_count": 18,
     "metadata": {},
     "output_type": "execute_result"
    }
   ],
   "source": [
    "combining(macron)"
   ]
  },
  {
   "cell_type": "code",
   "execution_count": null,
   "metadata": {},
   "outputs": [],
   "source": []
  }
 ],
 "metadata": {
  "kernelspec": {
   "display_name": "Python 3",
   "language": "python",
   "name": "python3"
  },
  "language_info": {
   "codemirror_mode": {
    "name": "ipython",
    "version": 3
   },
   "file_extension": ".py",
   "mimetype": "text/x-python",
   "name": "python",
   "nbconvert_exporter": "python",
   "pygments_lexer": "ipython3",
   "version": "3.8.2"
  }
 },
 "nbformat": 4,
 "nbformat_minor": 4
}
