{
 "cells": [
  {
   "cell_type": "markdown",
   "metadata": {},
   "source": [
    "# Fill in full author references for mentions of authors\n",
    "\n",
    "For example, if we find `Calderon`, we want to produce a string\n",
    "\n",
    "```\n",
    "<author><name key=\"cald\">Pedro Calderón de la Barca</name></author>\n",
    "```"
   ]
  },
  {
   "cell_type": "code",
   "execution_count": 1,
   "metadata": {},
   "outputs": [],
   "source": [
    "testTexts = [\n",
    "    \"Calderón de la Barca, Pedro\",\n",
    "    \"CCCCCalderón\",\n",
    "    \"Caldeeeeeerón\",\n",
    "    \"Pedro Barca\",\n",
    "    \"Pedro Barca\",\n",
    "    \"Agustin Moreto\",\n",
    "    \"A. Moreto\",\n",
    "    \"Agustin\",\n",
    "    \"Augustine\",\n",
    "]"
   ]
  },
  {
   "cell_type": "markdown",
   "metadata": {},
   "source": [
    "## Triggers\n",
    "\n",
    "We are going to find trigger strings for authors in the input texts.\n",
    "\n",
    "In order to do that successfully, we normalize the text first:\n",
    "\n",
    "* we remove all accents from accented letters\n",
    "* we make everything lowercase"
   ]
  },
  {
   "cell_type": "markdown",
   "metadata": {},
   "source": [
    "We need a function that can strip accents from characters.\n",
    "\n",
    "From [stackoverflow](https://stackoverflow.com/questions/517923/what-is-the-best-way-to-remove-accents-in-a-python-unicode-string)"
   ]
  },
  {
   "cell_type": "code",
   "execution_count": 2,
   "metadata": {},
   "outputs": [],
   "source": [
    "import re\n",
    "import unicodedata\n",
    "\n",
    "def normalize(text):\n",
    "    text = unicodedata.normalize('NFD', text)\n",
    "    text = text.encode('ascii', 'ignore')\n",
    "    text = text.decode(\"utf-8\")\n",
    "    return text.lower().strip()"
   ]
  },
  {
   "cell_type": "code",
   "execution_count": 3,
   "metadata": {},
   "outputs": [
    {
     "data": {
      "text/plain": [
       "'calderon de la barca, pedro'"
      ]
     },
     "execution_count": 3,
     "metadata": {},
     "output_type": "execute_result"
    }
   ],
   "source": [
    "normalize(\"Calderón de la Barca, Pedro\")"
   ]
  },
  {
   "cell_type": "markdown",
   "metadata": {},
   "source": [
    "## Authors\n",
    "\n",
    "We compile a list of authors that we want to detect.\n",
    "\n",
    "For each author we have a full name, a key, and a list of triggers.\n",
    "\n",
    "We format the specficiation as a *yaml* file (which maps to a Python dictionary)."
   ]
  },
  {
   "cell_type": "code",
   "execution_count": 4,
   "metadata": {},
   "outputs": [],
   "source": [
    "authorSpec = '''\n",
    "cald:\n",
    "    full: Pedro Calderón de la Barca\n",
    "    triggers:\n",
    "    - calderon\n",
    "    - barca\n",
    "more:\n",
    "    full: Agustín Moreto\n",
    "    triggers:\n",
    "    - moreto\n",
    "    - agustin\n",
    "    - augustine\n",
    "'''"
   ]
  },
  {
   "cell_type": "markdown",
   "metadata": {},
   "source": [
    "In order to parse this file, you need to install pyyaml first\n",
    "\n",
    "``` sh\n",
    "pip install yaml\n",
    "```\n",
    "\n",
    "or\n",
    "\n",
    "```\n",
    "pip3 install yaml\n",
    "```"
   ]
  },
  {
   "cell_type": "code",
   "execution_count": 5,
   "metadata": {},
   "outputs": [],
   "source": [
    "import yaml"
   ]
  },
  {
   "cell_type": "code",
   "execution_count": 6,
   "metadata": {},
   "outputs": [],
   "source": [
    "authors = yaml.load(authorSpec, Loader=yaml.FullLoader)"
   ]
  },
  {
   "cell_type": "code",
   "execution_count": 7,
   "metadata": {},
   "outputs": [
    {
     "data": {
      "text/plain": [
       "{'cald': {'full': 'Pedro Calderón de la Barca',\n",
       "  'triggers': ['calderon', 'barca']},\n",
       " 'more': {'full': 'Agustín Moreto',\n",
       "  'triggers': ['moreto', 'agustin', 'augustine']}}"
      ]
     },
     "execution_count": 7,
     "metadata": {},
     "output_type": "execute_result"
    }
   ],
   "source": [
    "authors"
   ]
  },
  {
   "cell_type": "markdown",
   "metadata": {},
   "source": [
    "We need to compile the authors specification in such a way that we can use the triggers"
   ]
  },
  {
   "cell_type": "code",
   "execution_count": 8,
   "metadata": {},
   "outputs": [],
   "source": [
    "triggers = {}\n",
    "for (key, authorInfo) in authors.items():\n",
    "    for trigger in authorInfo['triggers']:\n",
    "        triggers[trigger] = key"
   ]
  },
  {
   "cell_type": "code",
   "execution_count": 9,
   "metadata": {},
   "outputs": [
    {
     "data": {
      "text/plain": [
       "{'calderon': 'cald',\n",
       " 'barca': 'cald',\n",
       " 'moreto': 'more',\n",
       " 'agustin': 'more',\n",
       " 'augustine': 'more'}"
      ]
     },
     "execution_count": 9,
     "metadata": {},
     "output_type": "execute_result"
    }
   ],
   "source": [
    "triggers"
   ]
  },
  {
   "cell_type": "code",
   "execution_count": 10,
   "metadata": {},
   "outputs": [],
   "source": [
    "def fillInAuthorDetails(text):\n",
    "    normalized = normalize(text)\n",
    "    output = None\n",
    "    for trigger in triggers:\n",
    "        if trigger in normalized:\n",
    "            authorKey = triggers[trigger]\n",
    "            authorFull = authors[authorKey][\"full\"]\n",
    "            output = f\"\"\"<author><name key=\"{authorKey}\">{authorFull}</name></author>\"\"\"\n",
    "            break\n",
    "    if output is None:\n",
    "        print(f\"!!! {normalized:<36} => NO AUTHOR DETECTED\")\n",
    "    return output"
   ]
  },
  {
   "cell_type": "code",
   "execution_count": 11,
   "metadata": {},
   "outputs": [
    {
     "name": "stdout",
     "output_type": "stream",
     "text": [
      "Calderón de la Barca, Pedro              => <author><name key=\"cald\">Pedro Calderón de la Barca</name></author>\n",
      "CCCCCalderón                             => <author><name key=\"cald\">Pedro Calderón de la Barca</name></author>\n",
      "!!! caldeeeeeeron                        => NO AUTHOR DETECTED\n",
      "Pedro Barca                              => <author><name key=\"cald\">Pedro Calderón de la Barca</name></author>\n",
      "Pedro Barca                              => <author><name key=\"cald\">Pedro Calderón de la Barca</name></author>\n",
      "Agustin Moreto                           => <author><name key=\"more\">Agustín Moreto</name></author>\n",
      "A. Moreto                                => <author><name key=\"more\">Agustín Moreto</name></author>\n",
      "Agustin                                  => <author><name key=\"more\">Agustín Moreto</name></author>\n",
      "Augustine                                => <author><name key=\"more\">Agustín Moreto</name></author>\n"
     ]
    }
   ],
   "source": [
    "for text in (testTexts):\n",
    "    result = fillInAuthorDetails(text)\n",
    "    if result is not None:\n",
    "        print(f\"{text:<40} => {result}\")"
   ]
  },
  {
   "cell_type": "code",
   "execution_count": null,
   "metadata": {},
   "outputs": [],
   "source": []
  }
 ],
 "metadata": {
  "kernelspec": {
   "display_name": "Python 3",
   "language": "python",
   "name": "python3"
  },
  "language_info": {
   "codemirror_mode": {
    "name": "ipython",
    "version": 3
   },
   "file_extension": ".py",
   "mimetype": "text/x-python",
   "name": "python",
   "nbconvert_exporter": "python",
   "pygments_lexer": "ipython3",
   "version": "3.7.7"
  }
 },
 "nbformat": 4,
 "nbformat_minor": 4
}
